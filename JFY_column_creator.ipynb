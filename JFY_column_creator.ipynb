{
 "cells": [
  {
   "cell_type": "code",
   "execution_count": 1,
   "metadata": {},
   "outputs": [],
   "source": [
    "def make_JFY_column(date, start_month) :\n",
    "    \"\"\"\n",
    "    return:Fiscal year (month, day not included)\n",
    "    input:date (timestamp)\n",
    "    \"\"\"\n",
    "    end_month_fy = start_month - 1\n",
    "    if date.month <= end_month_fy:\n",
    "        fy = date.year - 1 \n",
    "        return  fy\n",
    "    else:\n",
    "        fy = date.year\n",
    "        return fy "
   ]
  }
 ],
 "metadata": {
  "kernelspec": {
   "display_name": "Python 3",
   "language": "python",
   "name": "python3"
  },
  "language_info": {
   "codemirror_mode": {
    "name": "ipython",
    "version": 3
   },
   "file_extension": ".py",
   "mimetype": "text/x-python",
   "name": "python",
   "nbconvert_exporter": "python",
   "pygments_lexer": "ipython3",
   "version": "3.7.4"
  }
 },
 "nbformat": 4,
 "nbformat_minor": 2
}
